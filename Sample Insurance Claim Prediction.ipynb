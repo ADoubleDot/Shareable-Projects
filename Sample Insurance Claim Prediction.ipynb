{
 "cells": [
  {
   "cell_type": "markdown",
   "metadata": {},
   "source": [
    "# Sample Insurance Claim Prediction\n"
   ]
  },
  {
   "cell_type": "markdown",
   "metadata": {},
   "source": [
    "* Dataset is from: https://www.kaggle.com/easonlai/sample-insurance-claim-prediction-dataset\n",
    "\n",
    "Content\n",
    "This is \"Sample Insurance Claim Prediction Dataset\" which based on \"[Medical Cost Personal Datasets][1]\" to update sample value on top.\n",
    "\n",
    "age : age of policyholder\n",
    "\n",
    "sex: gender of policy holder (female=0, male=1) \n",
    "\n",
    "bmi: Body mass index, providing an understanding of body, weights that are relatively high or low relative to height, objective index of body weight (kg / m ^ 2) using the ratio of height to weight, ideally 18.5 to 25 \n",
    "\n",
    "steps: average walking steps per day of policyholder \n",
    "\n",
    "children: number of children / dependents of policyholder \n",
    "\n",
    "smoker: smoking state of policyholder (non-smoke=0;smoker=1) \n",
    "\n",
    "region: the residential area of policyholder in the US (northeast=0, northwest=1, southeast=2, southwest=3) \n",
    "\n",
    "charges: individual medical costs billed by health insurance insuranceclaim: yes=1, no=0\n"
   ]
  },
  {
   "cell_type": "markdown",
   "metadata": {},
   "source": [
    "### Load data and data summary"
   ]
  },
  {
   "cell_type": "code",
   "execution_count": 31,
   "metadata": {},
   "outputs": [],
   "source": [
    "#load necessary package and libraries\n",
    "\n",
    "import numpy as np\n",
    "import pandas as pd\n",
    "import seaborn as sns\n",
    "import matplotlib.pyplot as plt\n",
    "%matplotlib inline\n",
    "\n"
   ]
  },
  {
   "cell_type": "code",
   "execution_count": 32,
   "metadata": {},
   "outputs": [
    {
     "data": {
      "text/html": [
       "<div>\n",
       "<style scoped>\n",
       "    .dataframe tbody tr th:only-of-type {\n",
       "        vertical-align: middle;\n",
       "    }\n",
       "\n",
       "    .dataframe tbody tr th {\n",
       "        vertical-align: top;\n",
       "    }\n",
       "\n",
       "    .dataframe thead th {\n",
       "        text-align: right;\n",
       "    }\n",
       "</style>\n",
       "<table border=\"1\" class=\"dataframe\">\n",
       "  <thead>\n",
       "    <tr style=\"text-align: right;\">\n",
       "      <th></th>\n",
       "      <th>id</th>\n",
       "      <th>age</th>\n",
       "      <th>sex</th>\n",
       "      <th>bmi</th>\n",
       "      <th>steps</th>\n",
       "      <th>children</th>\n",
       "      <th>smoker</th>\n",
       "      <th>region</th>\n",
       "      <th>charges</th>\n",
       "      <th>insuranceclaim</th>\n",
       "    </tr>\n",
       "  </thead>\n",
       "  <tbody>\n",
       "    <tr>\n",
       "      <th>0</th>\n",
       "      <td>1</td>\n",
       "      <td>19</td>\n",
       "      <td>0</td>\n",
       "      <td>27.900</td>\n",
       "      <td>3009</td>\n",
       "      <td>0</td>\n",
       "      <td>1</td>\n",
       "      <td>3</td>\n",
       "      <td>16884.92400</td>\n",
       "      <td>1</td>\n",
       "    </tr>\n",
       "    <tr>\n",
       "      <th>1</th>\n",
       "      <td>2</td>\n",
       "      <td>18</td>\n",
       "      <td>1</td>\n",
       "      <td>33.770</td>\n",
       "      <td>3008</td>\n",
       "      <td>1</td>\n",
       "      <td>0</td>\n",
       "      <td>2</td>\n",
       "      <td>1725.55230</td>\n",
       "      <td>1</td>\n",
       "    </tr>\n",
       "    <tr>\n",
       "      <th>2</th>\n",
       "      <td>3</td>\n",
       "      <td>28</td>\n",
       "      <td>1</td>\n",
       "      <td>33.000</td>\n",
       "      <td>3009</td>\n",
       "      <td>3</td>\n",
       "      <td>0</td>\n",
       "      <td>2</td>\n",
       "      <td>4449.46200</td>\n",
       "      <td>0</td>\n",
       "    </tr>\n",
       "    <tr>\n",
       "      <th>3</th>\n",
       "      <td>4</td>\n",
       "      <td>33</td>\n",
       "      <td>1</td>\n",
       "      <td>22.705</td>\n",
       "      <td>10009</td>\n",
       "      <td>0</td>\n",
       "      <td>0</td>\n",
       "      <td>1</td>\n",
       "      <td>21984.47061</td>\n",
       "      <td>0</td>\n",
       "    </tr>\n",
       "    <tr>\n",
       "      <th>4</th>\n",
       "      <td>5</td>\n",
       "      <td>32</td>\n",
       "      <td>1</td>\n",
       "      <td>28.880</td>\n",
       "      <td>8010</td>\n",
       "      <td>0</td>\n",
       "      <td>0</td>\n",
       "      <td>1</td>\n",
       "      <td>3866.85520</td>\n",
       "      <td>1</td>\n",
       "    </tr>\n",
       "  </tbody>\n",
       "</table>\n",
       "</div>"
      ],
      "text/plain": [
       "   id  age  sex     bmi  steps  children  smoker  region      charges  \\\n",
       "0   1   19    0  27.900   3009         0       1       3  16884.92400   \n",
       "1   2   18    1  33.770   3008         1       0       2   1725.55230   \n",
       "2   3   28    1  33.000   3009         3       0       2   4449.46200   \n",
       "3   4   33    1  22.705  10009         0       0       1  21984.47061   \n",
       "4   5   32    1  28.880   8010         0       0       1   3866.85520   \n",
       "\n",
       "   insuranceclaim  \n",
       "0               1  \n",
       "1               1  \n",
       "2               0  \n",
       "3               0  \n",
       "4               1  "
      ]
     },
     "execution_count": 32,
     "metadata": {},
     "output_type": "execute_result"
    }
   ],
   "source": [
    "#load data as df\n",
    "filename = 'insurance3r2.csv'\n",
    "df = pd.read_csv(filename)\n",
    "df = df.dropna()\n",
    "\n",
    "#check the first 5 rows of df\n",
    "df.head()"
   ]
  },
  {
   "cell_type": "code",
   "execution_count": 33,
   "metadata": {},
   "outputs": [],
   "source": [
    "#shuffle data\n",
    "df = df.iloc[np.random.permutation(len(df))].reset_index(drop = True)"
   ]
  },
  {
   "cell_type": "code",
   "execution_count": 34,
   "metadata": {},
   "outputs": [
    {
     "data": {
      "text/plain": [
       "id                  int64\n",
       "age                 int64\n",
       "sex                 int64\n",
       "bmi               float64\n",
       "steps               int64\n",
       "children            int64\n",
       "smoker              int64\n",
       "region              int64\n",
       "charges           float64\n",
       "insuranceclaim      int64\n",
       "dtype: object"
      ]
     },
     "execution_count": 34,
     "metadata": {},
     "output_type": "execute_result"
    }
   ],
   "source": [
    "#check the data types of each column\n",
    "df.dtypes"
   ]
  },
  {
   "cell_type": "markdown",
   "metadata": {},
   "source": [
    "Insuranceclaim may need to be changed as Boolean "
   ]
  },
  {
   "cell_type": "code",
   "execution_count": 35,
   "metadata": {},
   "outputs": [
    {
     "data": {
      "text/html": [
       "<div>\n",
       "<style scoped>\n",
       "    .dataframe tbody tr th:only-of-type {\n",
       "        vertical-align: middle;\n",
       "    }\n",
       "\n",
       "    .dataframe tbody tr th {\n",
       "        vertical-align: top;\n",
       "    }\n",
       "\n",
       "    .dataframe thead th {\n",
       "        text-align: right;\n",
       "    }\n",
       "</style>\n",
       "<table border=\"1\" class=\"dataframe\">\n",
       "  <thead>\n",
       "    <tr style=\"text-align: right;\">\n",
       "      <th></th>\n",
       "      <th>id</th>\n",
       "      <th>age</th>\n",
       "      <th>sex</th>\n",
       "      <th>bmi</th>\n",
       "      <th>steps</th>\n",
       "      <th>children</th>\n",
       "      <th>smoker</th>\n",
       "      <th>region</th>\n",
       "      <th>charges</th>\n",
       "      <th>insuranceclaim</th>\n",
       "    </tr>\n",
       "  </thead>\n",
       "  <tbody>\n",
       "    <tr>\n",
       "      <th>count</th>\n",
       "      <td>1338.000000</td>\n",
       "      <td>1338.000000</td>\n",
       "      <td>1338.000000</td>\n",
       "      <td>1338.000000</td>\n",
       "      <td>1338.000000</td>\n",
       "      <td>1338.000000</td>\n",
       "      <td>1338.000000</td>\n",
       "      <td>1338.000000</td>\n",
       "      <td>1338.000000</td>\n",
       "      <td>1338.000000</td>\n",
       "    </tr>\n",
       "    <tr>\n",
       "      <th>mean</th>\n",
       "      <td>669.500000</td>\n",
       "      <td>39.207025</td>\n",
       "      <td>0.505232</td>\n",
       "      <td>30.663397</td>\n",
       "      <td>5328.623318</td>\n",
       "      <td>1.094918</td>\n",
       "      <td>0.204783</td>\n",
       "      <td>1.515695</td>\n",
       "      <td>13270.422265</td>\n",
       "      <td>0.585202</td>\n",
       "    </tr>\n",
       "    <tr>\n",
       "      <th>std</th>\n",
       "      <td>386.391641</td>\n",
       "      <td>14.049960</td>\n",
       "      <td>0.500160</td>\n",
       "      <td>6.098187</td>\n",
       "      <td>2453.643236</td>\n",
       "      <td>1.205493</td>\n",
       "      <td>0.403694</td>\n",
       "      <td>1.104885</td>\n",
       "      <td>12110.011237</td>\n",
       "      <td>0.492871</td>\n",
       "    </tr>\n",
       "    <tr>\n",
       "      <th>min</th>\n",
       "      <td>1.000000</td>\n",
       "      <td>18.000000</td>\n",
       "      <td>0.000000</td>\n",
       "      <td>15.960000</td>\n",
       "      <td>3000.000000</td>\n",
       "      <td>0.000000</td>\n",
       "      <td>0.000000</td>\n",
       "      <td>0.000000</td>\n",
       "      <td>1121.873900</td>\n",
       "      <td>0.000000</td>\n",
       "    </tr>\n",
       "    <tr>\n",
       "      <th>25%</th>\n",
       "      <td>335.250000</td>\n",
       "      <td>27.000000</td>\n",
       "      <td>0.000000</td>\n",
       "      <td>26.296250</td>\n",
       "      <td>3008.000000</td>\n",
       "      <td>0.000000</td>\n",
       "      <td>0.000000</td>\n",
       "      <td>1.000000</td>\n",
       "      <td>4740.287150</td>\n",
       "      <td>0.000000</td>\n",
       "    </tr>\n",
       "    <tr>\n",
       "      <th>50%</th>\n",
       "      <td>669.500000</td>\n",
       "      <td>39.000000</td>\n",
       "      <td>1.000000</td>\n",
       "      <td>30.400000</td>\n",
       "      <td>4007.000000</td>\n",
       "      <td>1.000000</td>\n",
       "      <td>0.000000</td>\n",
       "      <td>2.000000</td>\n",
       "      <td>9382.033000</td>\n",
       "      <td>1.000000</td>\n",
       "    </tr>\n",
       "    <tr>\n",
       "      <th>75%</th>\n",
       "      <td>1003.750000</td>\n",
       "      <td>51.000000</td>\n",
       "      <td>1.000000</td>\n",
       "      <td>34.693750</td>\n",
       "      <td>8004.000000</td>\n",
       "      <td>2.000000</td>\n",
       "      <td>0.000000</td>\n",
       "      <td>2.000000</td>\n",
       "      <td>16639.912515</td>\n",
       "      <td>1.000000</td>\n",
       "    </tr>\n",
       "    <tr>\n",
       "      <th>max</th>\n",
       "      <td>1338.000000</td>\n",
       "      <td>64.000000</td>\n",
       "      <td>1.000000</td>\n",
       "      <td>53.130000</td>\n",
       "      <td>10010.000000</td>\n",
       "      <td>5.000000</td>\n",
       "      <td>1.000000</td>\n",
       "      <td>3.000000</td>\n",
       "      <td>63770.428010</td>\n",
       "      <td>1.000000</td>\n",
       "    </tr>\n",
       "  </tbody>\n",
       "</table>\n",
       "</div>"
      ],
      "text/plain": [
       "                id          age          sex          bmi         steps  \\\n",
       "count  1338.000000  1338.000000  1338.000000  1338.000000   1338.000000   \n",
       "mean    669.500000    39.207025     0.505232    30.663397   5328.623318   \n",
       "std     386.391641    14.049960     0.500160     6.098187   2453.643236   \n",
       "min       1.000000    18.000000     0.000000    15.960000   3000.000000   \n",
       "25%     335.250000    27.000000     0.000000    26.296250   3008.000000   \n",
       "50%     669.500000    39.000000     1.000000    30.400000   4007.000000   \n",
       "75%    1003.750000    51.000000     1.000000    34.693750   8004.000000   \n",
       "max    1338.000000    64.000000     1.000000    53.130000  10010.000000   \n",
       "\n",
       "          children       smoker       region       charges  insuranceclaim  \n",
       "count  1338.000000  1338.000000  1338.000000   1338.000000     1338.000000  \n",
       "mean      1.094918     0.204783     1.515695  13270.422265        0.585202  \n",
       "std       1.205493     0.403694     1.104885  12110.011237        0.492871  \n",
       "min       0.000000     0.000000     0.000000   1121.873900        0.000000  \n",
       "25%       0.000000     0.000000     1.000000   4740.287150        0.000000  \n",
       "50%       1.000000     0.000000     2.000000   9382.033000        1.000000  \n",
       "75%       2.000000     0.000000     2.000000  16639.912515        1.000000  \n",
       "max       5.000000     1.000000     3.000000  63770.428010        1.000000  "
      ]
     },
     "execution_count": 35,
     "metadata": {},
     "output_type": "execute_result"
    }
   ],
   "source": [
    "# summary of each Numerical variable\n",
    "df.describe()"
   ]
  },
  {
   "cell_type": "code",
   "execution_count": 36,
   "metadata": {},
   "outputs": [],
   "source": [
    "# summary of all variables\n",
    "#df.describe(include = 'all')"
   ]
  },
  {
   "cell_type": "code",
   "execution_count": 37,
   "metadata": {},
   "outputs": [],
   "source": [
    "#df.info()"
   ]
  },
  {
   "cell_type": "code",
   "execution_count": 38,
   "metadata": {},
   "outputs": [
    {
     "data": {
      "text/plain": [
       "1    783\n",
       "0    555\n",
       "Name: insuranceclaim, dtype: int64"
      ]
     },
     "execution_count": 38,
     "metadata": {},
     "output_type": "execute_result"
    }
   ],
   "source": [
    "df['insuranceclaim'].value_counts()"
   ]
  },
  {
   "cell_type": "markdown",
   "metadata": {},
   "source": [
    "Don't have to rebalance data. Yay!"
   ]
  },
  {
   "cell_type": "markdown",
   "metadata": {},
   "source": [
    "### Data Visualization"
   ]
  },
  {
   "cell_type": "markdown",
   "metadata": {},
   "source": [
    "Attribute Plots"
   ]
  },
  {
   "cell_type": "code",
   "execution_count": 39,
   "metadata": {
    "scrolled": false
   },
   "outputs": [
    {
     "data": {
      "image/png": "[encoded data removed]",
      "text/plain": [
       "<Figure size 1152x2160 with 8 Axes>"
      ]
     },
     "metadata": {
      "needs_background": "light"
     },
     "output_type": "display_data"
    }
   ],
   "source": [
    "\n",
    "fig = plt.figure(figsize=(16, 30))\n",
    "\n",
    "#Insurance Claim vs Age\n",
    "ax1 = plt.subplot('421')\n",
    "ax1.set_title('InsuranceClaim by age')\n",
    "var1 = df.groupby([pd.cut(df['age'], np.arange(15,65,5)), \n",
    "                   'insuranceclaim']).agg({'id':'count'})\n",
    "var1_pct = var1.groupby(level=0).apply(lambda x: 100*x/float(x.sum()))\n",
    "var1_pct.unstack().plot(kind = 'bar', stacked = True, ax = ax1)\n",
    "\n",
    "#Insurance Claim vs Sex\n",
    "ax2 = plt.subplot('422')\n",
    "ax2.set_title('InsuranceClaim by sex')\n",
    "var2 = df.groupby(['sex','insuranceclaim']).agg({'id':'count'})\n",
    "var2_pct=var2.groupby(level=0).apply(lambda x: 100*x/float(x.sum()))\n",
    "var2_pct.unstack().plot(kind='bar',stacked = True, ax = ax2)\n",
    "\n",
    "#Insurance Claim vs BMI\n",
    "ax3=plt.subplot('423')\n",
    "ax3.set_title('Insurance Claim by bmi')\n",
    "var3 = df.groupby([pd.cut(df['bmi'],np.arange(15,55,5)), 'insuranceclaim']).agg({'id':'count'})\n",
    "var3_pct = var3.groupby(level = 0).apply(lambda x: 100*x/float(x.sum()))\n",
    "var3_pct.unstack().plot(kind = 'bar', stacked = True, ax = ax3)\n",
    "\n",
    "#Insurance Claim vs Steps\n",
    "ax4=plt.subplot('424')\n",
    "ax4.set_title('Insurance Claim by Steps')\n",
    "var4 = df.groupby([pd.cut(df['steps'],np.arange(3000,11000,1000)), 'insuranceclaim']).agg({'id':'count'})\n",
    "var4_pct = var4.groupby(level = 0).apply(lambda x: 100*x/float(x.sum()))\n",
    "var4_pct.unstack().plot(kind = 'bar', stacked = True, ax = ax4)\n",
    "\n",
    "#Insurance Claim vs Children\n",
    "ax5 = plt.subplot('425')\n",
    "ax5.set_title('InsuranceClaim by Children')\n",
    "var5 = df.groupby(['children','insuranceclaim']).agg({'id':'count'})\n",
    "var5_pct=var5.groupby(level=0).apply(lambda x: 100*x/float(x.sum()))\n",
    "var5_pct.unstack().plot(kind='bar',stacked = True, ax = ax5)\n",
    "\n",
    "#Insurance Claim vs Smoker\n",
    "ax6 = plt.subplot('426')\n",
    "ax6.set_title('InsuranceClaim by Smoker')\n",
    "var6 = df.groupby(['smoker','insuranceclaim']).agg({'id':'count'})\n",
    "var6_pct=var6.groupby(level=0).apply(lambda x: 100*x/float(x.sum()))\n",
    "var6_pct.unstack().plot(kind='bar',stacked = True, ax = ax6)\n",
    "\n",
    "#Insurance Claim vs Region\n",
    "ax7 = plt.subplot('427')\n",
    "ax7.set_title('InsuranceClaim by Region')\n",
    "var7 = df.groupby(['region','insuranceclaim']).agg({'id':'count'})\n",
    "var7_pct=var7.groupby(level=0).apply(lambda x: 100*x/float(x.sum()))\n",
    "var7_pct.unstack().plot(kind='bar',stacked = True, ax = ax7)\n",
    "\n",
    "#Insurance Claim vs Charges\n",
    "ax8 = plt.subplot('428')\n",
    "ax8.set_title('InsuranceClaim by Charges')\n",
    "var8 = df.groupby([pd.cut(df['charges'], np.arange(1000,65000,2500)), \n",
    "                   'insuranceclaim']).agg({'id':'count'})\n",
    "var8_pct = var8.groupby(level=0).apply(lambda x: 100*x/float(x.sum()))\n",
    "var8_pct.unstack().plot(kind = 'bar', stacked = True, ax = ax8)\n",
    "\n",
    "\n",
    "\n",
    "fig.tight_layout()\n",
    "\n",
    "plt.show()\n",
    "\n"
   ]
  },
  {
   "cell_type": "markdown",
   "metadata": {},
   "source": [
    "\"sex\" feature might drop in the later analysis."
   ]
  },
  {
   "cell_type": "markdown",
   "metadata": {},
   "source": [
    "### Data cleaning"
   ]
  },
  {
   "cell_type": "markdown",
   "metadata": {},
   "source": [
    "categorical variables should be changed into dummy variables\n",
    "sex only has two values, not necessary\n",
    "region has no patucular orders, so it is better to transfrom it to dummy variables.\n"
   ]
  },
  {
   "cell_type": "markdown",
   "metadata": {},
   "source": [
    "Features Pre-processing for Logistic Regression"
   ]
  },
  {
   "cell_type": "code",
   "execution_count": 40,
   "metadata": {},
   "outputs": [],
   "source": [
    "def pre_process_features(X, catlist, notprocesslist):\n",
    "    \n",
    "    \"\"\" since all data type is int/float, the catlist should be a list with feature should be categorical data,\n",
    "    this function will convert such data into dummy variables;\n",
    "    also, normalize numerical data.\"\"\"\n",
    "    \n",
    "    # Initialize new dataframe.\n",
    "    output = pd.DataFrame(index = X.index)\n",
    "    \n",
    "    #loop through each feature\n",
    "    for col, col_data in X.iteritems():\n",
    "        # change categorical data into dummy variables\n",
    "        if col in catlist and col not in notprocesslist:\n",
    "            col_data = pd.get_dummies(col_data, prefix = col)\n",
    "        elif col not in notprocesslist:\n",
    "            # normalize numerical data\n",
    "            print(col, 'mean:', col_data.mean(), 'std:', col_data.std())\n",
    "            col_data = (col_data - col_data.mean())/col_data.std()\n",
    "            \n",
    "        \n",
    "        #put columns together\n",
    "        output = output.join(col_data)\n",
    "        \n",
    "    return output\n",
    "        \n",
    "            \n"
   ]
  },
  {
   "cell_type": "markdown",
   "metadata": {},
   "source": [
    "Create datasets for logistic regression and tree related model"
   ]
  },
  {
   "cell_type": "code",
   "execution_count": 41,
   "metadata": {},
   "outputs": [
    {
     "name": "stdout",
     "output_type": "stream",
     "text": [
      "age mean: 39.20702541106129 std: 14.049960379216168\n",
      "sex mean: 0.5052316890881914 std: 0.5001595692843718\n",
      "bmi mean: 30.66339686098655 std: 6.098186911679016\n",
      "steps mean: 5328.62331838565 std: 2453.6432359877017\n",
      "children mean: 1.0949177877429 std: 1.2054927397819093\n",
      "smoker mean: 0.20478325859491778 std: 0.40369403754562083\n",
      "charges mean: 13270.422265141278 std: 12110.011236694005\n",
      "Feature Pre-Processing is DONE!\n"
     ]
    }
   ],
   "source": [
    "catlist = ['region']\n",
    "notprocess_logistic = ['id', 'insuranceclaim']\n",
    "notprocess_tree = ['id', 'age', 'sex', 'bmi', 'steps', 'children', 'smoker', 'charges', 'insuranceclaim']\n",
    "df_logistic = pre_process_features(df, catlist, notprocess_logistic)\n",
    "df_tree = pre_process_features(df, catlist, notprocess_tree)\n",
    "df_rf = df_tree\n",
    "print('Feature Pre-Processing is DONE!')"
   ]
  },
  {
   "cell_type": "markdown",
   "metadata": {},
   "source": [
    "separate predictors and target variable and drop id"
   ]
  },
  {
   "cell_type": "code",
   "execution_count": 42,
   "metadata": {},
   "outputs": [],
   "source": [
    "X_logistic = df_logistic.drop(['id', 'insuranceclaim'], axis = 1)\n",
    "y_logistic = df_logistic['insuranceclaim']\n",
    "\n",
    "X_tree = df_tree.drop(['id', 'insuranceclaim'], axis = 1)\n",
    "y_tree = df_tree['insuranceclaim']\n",
    "\n",
    "X_rf = df_rf.drop(['id', 'insuranceclaim'], axis = 1)\n",
    "y_rf = df_rf['insuranceclaim']\n",
    "\n"
   ]
  },
  {
   "cell_type": "markdown",
   "metadata": {},
   "source": [
    "Split dataset into traingset and testset (70/30)"
   ]
  },
  {
   "cell_type": "code",
   "execution_count": 43,
   "metadata": {},
   "outputs": [],
   "source": [
    "from sklearn.model_selection import train_test_split\n",
    "\n",
    "X_logistic_train, X_logistic_test, y_logistic_train, y_logistic_test = train_test_split(\n",
    "    X_logistic, y_logistic, test_size = 0.3, random_state = 123)\n",
    "\n",
    "X_tree_train, X_tree_test, y_tree_train, y_tree_test = train_test_split(\n",
    "    X_tree, y_tree, test_size = 0.3, random_state = 123)\n",
    "\n",
    "X_rf_train, X_rf_test, y_rf_train, y_rf_test = train_test_split(\n",
    "    X_rf, y_rf, test_size = 0.3, random_state = 123)\n",
    "\n"
   ]
  },
  {
   "cell_type": "markdown",
   "metadata": {},
   "source": [
    "### Logistic Regression Model"
   ]
  },
  {
   "cell_type": "code",
   "execution_count": 44,
   "metadata": {},
   "outputs": [
    {
     "data": {
      "text/plain": [
       "LogisticRegression(C=1.0, class_weight=None, dual=False, fit_intercept=True,\n",
       "          intercept_scaling=1, max_iter=100, multi_class='warn',\n",
       "          n_jobs=None, penalty='l2', random_state=None, solver='liblinear',\n",
       "          tol=0.0001, verbose=0, warm_start=False)"
      ]
     },
     "execution_count": 44,
     "metadata": {},
     "output_type": "execute_result"
    }
   ],
   "source": [
    "#build the logistic regression model with l2 regularization \n",
    "# note: default cutoff point is 0.5\n",
    "from sklearn.linear_model import LogisticRegression\n",
    "from sklearn.metrics import confusion_matrix\n",
    "\n",
    "model_log = LogisticRegression(penalty = 'l2',solver='liblinear')\n",
    "model_log.fit(X_logistic_train, y_logistic_train)\n",
    "\n",
    "\n",
    "    "
   ]
  },
  {
   "cell_type": "markdown",
   "metadata": {},
   "source": [
    "Don't need this..."
   ]
  },
  {
   "cell_type": "code",
   "execution_count": 45,
   "metadata": {},
   "outputs": [],
   "source": [
    "# Confusion Matrix\n",
    "def CM(Act, Pred):\n",
    "    TPC = 0\n",
    "    TNC = 0\n",
    "    FPC = 0\n",
    "    FNC = 0\n",
    "    if len(Act) != len(Pred): \n",
    "        print('not same len')\n",
    "       \n",
    "    else:\n",
    "        for i in range(len(Act)):\n",
    "            if Act[i] == 1 and Pred[i] == 1:\n",
    "                TPC = TPC + 1\n",
    "            elif Act[i] == 0 and Pred[i] == 0:\n",
    "                TNC = TNC + 1\n",
    "            elif Act[i] == 1 and Pred[i] == 0:\n",
    "                FNC = FNC + 1\n",
    "            elif Act[i] == 0 and Pred[i] == 1:\n",
    "                FPC =FPC + 1\n",
    "                \n",
    "    print('TP =',TPC,'FP =', FPC,'FN =', FNC, 'TN =',TNC)\n",
    "    Accuracy = (TPC + TNC)/(len(Pred))\n",
    "    Precision_PPV = TPC/(TPC + FPC)\n",
    "    Sensitivity = TPC/(TPC + FNC)\n",
    "    Specificity = TNC/(FPC + TNC)\n",
    "    #PPV = TPC/(TPC + FPC)\n",
    "    print('Sensitivity =', Sensitivity,'Specificity =', Specificity, 'Positive Predictive Value =', Precision_PPV)\n",
    "    return TPC, TNC, FPC, FNC, Sensitivity, Specificity,Precision_PPV\n",
    "        \n"
   ]
  },
  {
   "cell_type": "code",
   "execution_count": 46,
   "metadata": {},
   "outputs": [],
   "source": [
    "def F1_Score(precision, sensitivity):\n",
    "    f1 = 2/((1/precision) + (1/sensitivity))\n",
    "    return f1"
   ]
  },
  {
   "cell_type": "code",
   "execution_count": 47,
   "metadata": {},
   "outputs": [
    {
     "name": "stdout",
     "output_type": "stream",
     "text": [
      "cutoff_best = 0.52 f1_best = 0.9063948100092679 Confusion Matrix: [[346  49]\n",
      " [ 52 489]]\n"
     ]
    }
   ],
   "source": [
    "# hyperparameter tuning\n",
    "# run alternative cutoff points.\n",
    " \n",
    "\n",
    "cutoff_list = np.linspace(0.01,0.99,99)\n",
    "train_prob = pd.DataFrame(model_log.predict_proba(X_logistic_train)).loc[:,1]\n",
    "f1_best = 0\n",
    "cutoff_best = 0\n",
    "flag_best = []\n",
    "cm_best = ()\n",
    "\n",
    "for cutoff in cutoff_list:\n",
    "    y_train_flag = train_prob.apply(lambda x: 1 if x > cutoff else 0)\n",
    "    tn, fp, fn, tp = confusion_matrix(np.array(y_logistic_train), np.array(y_train_flag)).ravel()\n",
    "    Precision_PPV = tp/(tp+fp)\n",
    "    Sensitivity = tp/(tp+fn)\n",
    "    \n",
    "    f1 = F1_Score(Precision_PPV, Sensitivity)\n",
    "    if f1 > f1_best:\n",
    "        f1_best = f1\n",
    "        cutoff_best = cutoff\n",
    "        flag_best = y_train_flag\n",
    "        cm_best = confusion_matrix(np.array(y_logistic_train), np.array(y_train_flag))\n",
    "\n",
    "    \n",
    "print(\"cutoff_best =\", cutoff_best, 'f1_best =', f1_best, 'Confusion Matrix:',cm_best)    \n",
    "\n",
    "    \n",
    "    "
   ]
  },
  {
   "cell_type": "code",
   "execution_count": 48,
   "metadata": {},
   "outputs": [
    {
     "name": "stdout",
     "output_type": "stream",
     "text": [
      "F1 Score for Logistic Regression: 0.909853249475891\n",
      "The confusion matrix is: [[142  18]\n",
      " [ 25 217]]\n"
     ]
    }
   ],
   "source": [
    "# run the Logistic Regression on the test set\n",
    "test_prob = pd.DataFrame(model_log.predict_proba(X_logistic_test)).loc[:,1]\n",
    "y_test_flag = test_prob.apply(lambda x: 1 if x > cutoff_best else 0)\n",
    "tnt,fpt,fnt,tpt = confusion_matrix(np.array(y_logistic_test), np.array(y_test_flag)).ravel()\n",
    "precision_logistic = tpt/(tpt+fpt)\n",
    "sensitivity_logistic = tpt/(tpt+fnt)\n",
    "f1_logistic = F1_Score(precision_logistic, sensitivity_logistic)\n",
    "cm_logistic = confusion_matrix(np.array(y_logistic_test), np.array(y_test_flag))\n",
    "print('F1 Score for Logistic Regression:', f1_logistic)\n",
    "print('The confusion matrix is:', cm_logistic)"
   ]
  },
  {
   "cell_type": "code",
   "execution_count": 49,
   "metadata": {},
   "outputs": [
    {
     "name": "stdout",
     "output_type": "stream",
     "text": [
      "Accuracy: 0.8880597014925373\n"
     ]
    }
   ],
   "source": [
    "#accuracy\n",
    "print('Accuracy:', model_log.score(X_logistic_test, y_logistic_test))\n"
   ]
  },
  {
   "cell_type": "code",
   "execution_count": 50,
   "metadata": {},
   "outputs": [
    {
     "name": "stdout",
     "output_type": "stream",
     "text": [
      "              precision    recall  f1-score   support\n",
      "\n",
      "           0       0.85      0.89      0.87       160\n",
      "           1       0.92      0.90      0.91       242\n",
      "\n",
      "   micro avg       0.89      0.89      0.89       402\n",
      "   macro avg       0.89      0.89      0.89       402\n",
      "weighted avg       0.89      0.89      0.89       402\n",
      "\n"
     ]
    }
   ],
   "source": [
    "# Use Scikit Learn package to double check\n",
    "from sklearn.metrics import classification_report\n",
    "print(classification_report(y_logistic_test, y_test_flag))"
   ]
  },
  {
   "cell_type": "markdown",
   "metadata": {},
   "source": [
    "#### Model Parameters"
   ]
  },
  {
   "cell_type": "code",
   "execution_count": 51,
   "metadata": {},
   "outputs": [
    {
     "name": "stdout",
     "output_type": "stream",
     "text": [
      "age : 0.3995202293747121\n",
      "sex : -0.028088740535673097\n",
      "bmi : 1.8142170954915757\n",
      "steps : 0.18012279653755664\n",
      "children : -1.7117697654876576\n",
      "smoker : 1.8534416188515919\n",
      "region_0 : 0.39888707293533376\n",
      "region_1 : -0.01718986701864857\n",
      "region_2 : 0.18086747403759057\n",
      "region_3 : 0.07079418832825055\n",
      "charges : -0.06664814153576402\n",
      "Intercept: 0.6333588682825338\n"
     ]
    }
   ],
   "source": [
    "colnames = list(X_logistic_train.columns)\n",
    "coef_log = model_log.coef_\n",
    "for i in range(X_logistic_train.shape[1]):\n",
    "    print(colnames[i],':',coef_log[0][i])\n",
    "    \n",
    "print('Intercept:', model_log.intercept_[0])\n",
    "\n",
    "#type(model_log.coef_)"
   ]
  },
  {
   "cell_type": "markdown",
   "metadata": {},
   "source": [
    "#### What if drop the \"sex\" feature?"
   ]
  },
  {
   "cell_type": "code",
   "execution_count": 52,
   "metadata": {},
   "outputs": [
    {
     "name": "stdout",
     "output_type": "stream",
     "text": [
      "Classification report without \"sex\" feature\n",
      "              precision    recall  f1-score   support\n",
      "\n",
      "           0       0.86      0.89      0.87       160\n",
      "           1       0.92      0.90      0.91       242\n",
      "\n",
      "   micro avg       0.90      0.90      0.90       402\n",
      "   macro avg       0.89      0.89      0.89       402\n",
      "weighted avg       0.90      0.90      0.90       402\n",
      "\n",
      "*********************************************************\n",
      "Classification report with \"sex\" feature\n",
      "              precision    recall  f1-score   support\n",
      "\n",
      "           0       0.85      0.89      0.87       160\n",
      "           1       0.92      0.90      0.91       242\n",
      "\n",
      "   micro avg       0.89      0.89      0.89       402\n",
      "   macro avg       0.89      0.89      0.89       402\n",
      "weighted avg       0.89      0.89      0.89       402\n",
      "\n",
      "---------------------------------------------------------\n",
      "Confusion Matrix without \"sex\" feature\n",
      "[[142  18]\n",
      " [ 24 218]]\n",
      "*********************************************************\n",
      "Confusion Matrix with \"sex\" feature\n",
      "[[142  18]\n",
      " [ 25 217]]\n"
     ]
    }
   ],
   "source": [
    "#drop \"sex\"\n",
    "X_logistic_train_simple = X_logistic_train.drop('sex', axis = 1)\n",
    "X_logistic_test_simple = X_logistic_test.drop('sex', axis = 1)\n",
    "\n",
    "model_log_simple = LogisticRegression(penalty = 'l2',solver='liblinear')\n",
    "model_log_simple.fit(X_logistic_train_simple, y_logistic_train)\n",
    "\n",
    "\n",
    "test_prob_simple = pd.DataFrame(model_log_simple.predict_proba(X_logistic_test_simple)).loc[:,1]\n",
    "y_test_flag_simple = test_prob_simple.apply(lambda x: 1 if x > cutoff_best else 0)\n",
    "\n",
    "print('Classification report without \"sex\" feature')\n",
    "print(classification_report(y_logistic_test, y_test_flag_simple))\n",
    "print('*********************************************************')\n",
    "\n",
    "print('Classification report with \"sex\" feature')\n",
    "print(classification_report(y_logistic_test, y_test_flag))\n",
    "\n",
    "print('---------------------------------------------------------')\n",
    "print('Confusion Matrix without \"sex\" feature')\n",
    "print(confusion_matrix(np.array(y_logistic_test), np.array(y_test_flag_simple)))\n",
    "\n",
    "print('*********************************************************')\n",
    "print('Confusion Matrix with \"sex\" feature')\n",
    "print(confusion_matrix(np.array(y_logistic_test), np.array(y_test_flag)))\n"
   ]
  },
  {
   "cell_type": "markdown",
   "metadata": {},
   "source": [
    "### Decision Tree"
   ]
  },
  {
   "cell_type": "code",
   "execution_count": 53,
   "metadata": {},
   "outputs": [
    {
     "name": "stdout",
     "output_type": "stream",
     "text": [
      "model on max_depth: 5\n",
      "model on min_samples_split: 50\n",
      "F1 Score: 0.905238196178184 ; Accuracy: 0.8910114916372738\n",
      "model on min_samples_split: 60\n",
      "F1 Score: 0.905238196178184 ; Accuracy: 0.8910114916372738\n",
      "model on min_samples_split: 70\n",
      "F1 Score: 0.905238196178184 ; Accuracy: 0.8910114916372738\n",
      "model on min_samples_split: 80\n",
      "F1 Score: 0.905238196178184 ; Accuracy: 0.8910114916372738\n",
      "model on min_samples_split: 90\n",
      "F1 Score: 0.905238196178184 ; Accuracy: 0.8910114916372738\n",
      "model on min_samples_split: 100\n",
      "F1 Score: 0.905238196178184 ; Accuracy: 0.8910114916372738\n",
      "model on min_samples_split: 110\n",
      "F1 Score: 0.905238196178184 ; Accuracy: 0.8910114916372738\n",
      "model on min_samples_split: 120\n",
      "F1 Score: 0.8856056988433438 ; Accuracy: 0.8664523836613949\n",
      "model on min_samples_split: 130\n",
      "F1 Score: 0.8730823857316798 ; Accuracy: 0.8493400841961544\n",
      "model on min_samples_split: 140\n",
      "F1 Score: 0.8729599331820428 ; Accuracy: 0.8472010467629992\n",
      "model on max_depth: 6\n",
      "model on min_samples_split: 50\n",
      "F1 Score: 0.9089342969091252 ; Accuracy: 0.8963363295027875\n",
      "model on min_samples_split: 60\n",
      "F1 Score: 0.9089342969091252 ; Accuracy: 0.8963363295027875\n",
      "model on min_samples_split: 70\n",
      "F1 Score: 0.9079437714999952 ; Accuracy: 0.8952724997155534\n",
      "model on min_samples_split: 80\n",
      "F1 Score: 0.9031054424936228 ; Accuracy: 0.8899249061326658\n",
      "model on min_samples_split: 90\n",
      "F1 Score: 0.8997512385580235 ; Accuracy: 0.8867334167709636\n",
      "model on min_samples_split: 100\n",
      "F1 Score: 0.905238196178184 ; Accuracy: 0.8910114916372738\n",
      "model on min_samples_split: 110\n",
      "F1 Score: 0.905238196178184 ; Accuracy: 0.8910114916372738\n",
      "model on min_samples_split: 120\n",
      "F1 Score: 0.8856056988433438 ; Accuracy: 0.8664523836613949\n",
      "model on min_samples_split: 130\n",
      "F1 Score: 0.8730823857316798 ; Accuracy: 0.8493400841961544\n",
      "model on min_samples_split: 140\n",
      "F1 Score: 0.8729599331820428 ; Accuracy: 0.8472010467629992\n",
      "model on max_depth: 7\n",
      "model on min_samples_split: 50\n",
      "F1 Score: 0.9255519239245628 ; Accuracy: 0.9134486289680283\n",
      "model on min_samples_split: 60\n",
      "F1 Score: 0.9207751749451504 ; Accuracy: 0.9091705541017181\n",
      "model on min_samples_split: 70\n",
      "F1 Score: 0.9163408548641554 ; Accuracy: 0.9048981681647514\n",
      "model on min_samples_split: 80\n",
      "F1 Score: 0.9031054424936228 ; Accuracy: 0.8899249061326658\n",
      "model on min_samples_split: 90\n",
      "F1 Score: 0.8997512385580235 ; Accuracy: 0.8867334167709636\n",
      "model on min_samples_split: 100\n",
      "F1 Score: 0.905238196178184 ; Accuracy: 0.8910114916372738\n",
      "model on min_samples_split: 110\n",
      "F1 Score: 0.905238196178184 ; Accuracy: 0.8910114916372738\n",
      "model on min_samples_split: 120\n",
      "F1 Score: 0.8856056988433438 ; Accuracy: 0.8664523836613949\n",
      "model on min_samples_split: 130\n",
      "F1 Score: 0.8730823857316798 ; Accuracy: 0.8493400841961544\n",
      "model on min_samples_split: 140\n",
      "F1 Score: 0.8729599331820428 ; Accuracy: 0.8472010467629992\n",
      "model on max_depth: 8\n",
      "model on min_samples_split: 50\n",
      "F1 Score: 0.9254494701568255 ; Accuracy: 0.9134486289680283\n",
      "model on min_samples_split: 60\n",
      "F1 Score: 0.9207751749451504 ; Accuracy: 0.9091705541017181\n",
      "model on min_samples_split: 70\n",
      "F1 Score: 0.9163408548641554 ; Accuracy: 0.9048981681647514\n",
      "model on min_samples_split: 80\n",
      "F1 Score: 0.9031054424936228 ; Accuracy: 0.8899249061326658\n",
      "model on min_samples_split: 90\n",
      "F1 Score: 0.8997512385580235 ; Accuracy: 0.8867334167709636\n",
      "model on min_samples_split: 100\n",
      "F1 Score: 0.905238196178184 ; Accuracy: 0.8910114916372738\n",
      "model on min_samples_split: 110\n",
      "F1 Score: 0.905238196178184 ; Accuracy: 0.8910114916372738\n",
      "model on min_samples_split: 120\n",
      "F1 Score: 0.8856056988433438 ; Accuracy: 0.8664523836613949\n",
      "model on min_samples_split: 130\n",
      "F1 Score: 0.8730823857316798 ; Accuracy: 0.8493400841961544\n",
      "model on min_samples_split: 140\n",
      "F1 Score: 0.8729599331820428 ; Accuracy: 0.8472010467629992\n",
      "model on max_depth: 9\n",
      "model on min_samples_split: 50\n",
      "F1 Score: 0.9254494701568255 ; Accuracy: 0.9134486289680283\n",
      "model on min_samples_split: 60\n",
      "F1 Score: 0.9207751749451504 ; Accuracy: 0.9091705541017181\n",
      "model on min_samples_split: 70\n",
      "F1 Score: 0.9163408548641554 ; Accuracy: 0.9048981681647514\n",
      "model on min_samples_split: 80\n",
      "F1 Score: 0.9031054424936228 ; Accuracy: 0.8899249061326658\n",
      "model on min_samples_split: 90\n",
      "F1 Score: 0.8997512385580235 ; Accuracy: 0.8867334167709636\n",
      "model on min_samples_split: 100\n",
      "F1 Score: 0.905238196178184 ; Accuracy: 0.8910114916372738\n",
      "model on min_samples_split: 110\n",
      "F1 Score: 0.905238196178184 ; Accuracy: 0.8910114916372738\n",
      "model on min_samples_split: 120\n",
      "F1 Score: 0.8856056988433438 ; Accuracy: 0.8664523836613949\n",
      "model on min_samples_split: 130\n",
      "F1 Score: 0.8730823857316798 ; Accuracy: 0.8493400841961544\n",
      "model on min_samples_split: 140\n",
      "F1 Score: 0.8729599331820428 ; Accuracy: 0.8472010467629992\n",
      "optimal max_depth: 7\n",
      "optimal min_samples_split: 50\n",
      "F1 score when using optimal hyperparameter: 0.9255519239245628\n",
      "Accuracy when using optimal hyperparameter: 0.9134486289680283\n",
      "Hyperparameter Tuning is DONE!!!\n"
     ]
    }
   ],
   "source": [
    "from sklearn.tree import DecisionTreeClassifier\n",
    "from sklearn.model_selection import GridSearchCV\n",
    "from sklearn.model_selection import cross_validate\n",
    "from sklearn.model_selection import KFold\n",
    "from sklearn.metrics import make_scorer, mean_squared_error, f1_score, accuracy_score\n",
    "\n",
    "#use F1 as the score function.\n",
    "tree_score = make_scorer(f1_score, greater_is_better = True)\n",
    "\n",
    "#store scores\n",
    "score_cache = pd.DataFrame(columns = ['max_depth', 'min_samples_split', 'f1_score', 'accuracy_score'])\n",
    "\n",
    "#creat k folders, k = 5\n",
    "k = 5\n",
    "kf = KFold(n_splits=k, random_state = 123)\n",
    "\n",
    "#training set is ready\n",
    "X_tree_train.index = range(len(X_tree_train))\n",
    "y_tree_train = pd.DataFrame(y_tree_train)\n",
    "y_tree_train.index = range(len(y_tree_train))\n",
    "\n",
    "#\n",
    "for max_depth in range (5, 10):\n",
    "    print('model on max_depth:', max_depth)\n",
    "    for min_samples_split in range(50, 150, 10):\n",
    "        print('model on min_samples_split:', min_samples_split)\n",
    "        avg_f1 = 0.0\n",
    "        avg_accuracy = 0.0\n",
    "        for train, cv in kf.split(X_tree_train):\n",
    "            #split training set to train and cv sets.\n",
    "            X_train, X_cv, y_train, y_cv = X_tree_train.iloc[train], X_tree_train.iloc[cv], y_tree_train.iloc[train], y_tree_train.iloc[cv]\n",
    "            #use decision tree classifier with selected max_depth and min_samples_split\n",
    "            clf = DecisionTreeClassifier(random_state = 123,\n",
    "                                        max_depth = max_depth,\n",
    "                                        min_samples_split = min_samples_split)\n",
    "            clf.fit(X_train, y_train)\n",
    "            #avg scores \n",
    "            avg_f1 = avg_f1 + f1_score(y_cv, clf.predict(X_cv))\n",
    "            avg_accuracy = avg_accuracy + accuracy_score(y_cv, clf.predict(X_cv))\n",
    "        \n",
    "        avg_f1 = avg_f1/k\n",
    "        avg_accuracy = avg_accuracy/k\n",
    "        print('F1 Score:', avg_f1, '; Accuracy:', avg_accuracy)\n",
    "        \n",
    "        score_cache = score_cache.append(pd.DataFrame([[max_depth, min_samples_split, avg_f1, avg_accuracy]],\n",
    "                                                      columns = ['max_depth', 'min_samples_split', 'f1_score', 'accuracy_score']))\n",
    "\n",
    "opt = score_cache[score_cache.f1_score == score_cache.f1_score.max()]\n",
    "\n",
    "print('optimal max_depth:',opt.max_depth[0])\n",
    "print('optimal min_samples_split:', opt.min_samples_split[0])\n",
    "print('F1 score when using optimal hyperparameter:', opt.f1_score[0])\n",
    "print('Accuracy when using optimal hyperparameter:', opt.accuracy_score[0])\n",
    "\n",
    "print('Hyperparameter Tuning is DONE!!!')\n",
    "    \n"
   ]
  },
  {
   "cell_type": "markdown",
   "metadata": {},
   "source": [
    "#### Decision Tree Model with optimal hyperparameters"
   ]
  },
  {
   "cell_type": "code",
   "execution_count": 55,
   "metadata": {},
   "outputs": [
    {
     "name": "stdout",
     "output_type": "stream",
     "text": [
      "Decision Tree F1 Score on test set: 0.9193548387096775\n",
      "Decision Tree Accurate on test set: 0.900497512437811\n",
      "[[134  26]\n",
      " [ 14 228]]\n"
     ]
    }
   ],
   "source": [
    "clf_tree_opt = DecisionTreeClassifier(max_depth = opt.max_depth[0],\n",
    "                                      min_samples_split = opt.min_samples_split[0],\n",
    "                                      random_state = 123)\n",
    "\n",
    "clf_tree_opt.fit(X_tree_train, y_tree_train)\n",
    "\n",
    "print(\"Decision Tree F1 Score on test set:\", f1_score(y_tree_test, clf_tree_opt.predict(X_tree_test)))\n",
    "print(\"Decision Tree Accurate on test set:\", accuracy_score(y_tree_test, clf_tree_opt.predict(X_tree_test)))\n",
    "print(confusion_matrix(np.array(y_tree_test), clf_tree_opt.predict(X_tree_test)))\n"
   ]
  },
  {
   "cell_type": "code",
   "execution_count": 56,
   "metadata": {},
   "outputs": [
    {
     "data": {
      "text/plain": [
       "DecisionTreeClassifier(class_weight=None, criterion='gini', max_depth=7,\n",
       "            max_features=None, max_leaf_nodes=None,\n",
       "            min_impurity_decrease=0.0, min_impurity_split=None,\n",
       "            min_samples_leaf=1, min_samples_split=50,\n",
       "            min_weight_fraction_leaf=0.0, presort=False, random_state=123,\n",
       "            splitter='best')"
      ]
     },
     "execution_count": 56,
     "metadata": {},
     "output_type": "execute_result"
    }
   ],
   "source": [
    "clf_tree_opt"
   ]
  },
  {
   "cell_type": "markdown",
   "metadata": {},
   "source": [
    "Decision Tree is better than Logistic Regreesion model in this case!!!"
   ]
  },
  {
   "cell_type": "markdown",
   "metadata": {},
   "source": [
    "### Visualizae the Decision Tree"
   ]
  },
  {
   "cell_type": "code",
   "execution_count": 57,
   "metadata": {},
   "outputs": [],
   "source": [
    "from sklearn.tree import export_graphviz\n",
    "\n",
    "def visualize_tree(tree, feature_names):\n",
    "    \"\"\"\n",
    "    Create tree png\n",
    "    ---\n",
    "    package:\n",
    "    from sklearn.tree import export_graphviz\n",
    "    ---\n",
    "    Args\n",
    "    ---\n",
    "    tree -- scikitlearn DecisionTreeClassifier\n",
    "    feature_names -- list of feature_names, can be done by X.train.columns\n",
    "    ---\n",
    "    Output: dt.png\n",
    "    \"\"\"\n",
    "    with open(\"dt.dot\",'w') as f:\n",
    "        export_graphviz(tree, \n",
    "                        out_file = f,\n",
    "                        feature_names = feature_names)\n",
    "        \n",
    "    command = [\"dot\", \"-Tpng\", \"dt.dot\", \"-o\", \"dt.png\"]\n",
    "    command\n",
    "    try:\n",
    "        subprocess.check_call(command)\n",
    "    except:\n",
    "        exit('Tree Visualization Failed')\n",
    "visualize_tree(clf_tree_opt, X_tree_train.columns)        \n",
    "    "
   ]
  },
  {
   "cell_type": "code",
   "execution_count": 58,
   "metadata": {},
   "outputs": [
    {
     "name": "stdout",
     "output_type": "stream",
     "text": [
      "dt.dot has been created\n"
     ]
    }
   ],
   "source": [
    "visualize_tree(clf_tree_opt, X_tree_train.columns)\n",
    "\n",
    "\n",
    "print('dt.dot has been created')\n"
   ]
  },
  {
   "cell_type": "markdown",
   "metadata": {},
   "source": [
    "Online Graphviz\n",
    "http://webgraphviz.com/"
   ]
  },
  {
   "cell_type": "markdown",
   "metadata": {},
   "source": [
    "## Run the Models on the full dataset"
   ]
  },
  {
   "cell_type": "code",
   "execution_count": 59,
   "metadata": {},
   "outputs": [
    {
     "name": "stdout",
     "output_type": "stream",
     "text": [
      "Logistic Regression F1 Score on FULL set: 0.9064102564102565\n",
      "Logistic Regression Accurate on FULL set: 0.8886397608370703\n",
      "Logistic Regression Confusion Matrix on Full Set:\n",
      "[[485  70]\n",
      " [ 76 707]]\n",
      "*************************************************************\n",
      "Decision Tree F1 Score on FULL set: 0.9239472030169705\n",
      "Decision Tree Accurate on FULL set: 0.9095665171898356\n",
      "Decision Tree Confusion Matrix on Full Set:\n",
      "[[482  73]\n",
      " [ 48 735]]\n"
     ]
    }
   ],
   "source": [
    "# Scores on Logistic Regression when using full dataset.\n",
    "X_logistic_simple = X_logistic.drop('sex', axis = 1)\n",
    "\n",
    "simple_prob = pd.DataFrame(model_log_simple.predict_proba(X_logistic_simple)).loc[:,1]\n",
    "y_simple_flag = simple_prob.apply(lambda x: 1 if x > cutoff_best else 0)\n",
    "tn,fp,fn,tp = confusion_matrix(np.array(y_logistic), np.array(y_simple_flag)).ravel()\n",
    "precision_logistic = tp/(tp+fp)\n",
    "sensitivity_logistic = tp/(tp+fn)\n",
    "f1_logistic = F1_Score(precision_logistic, sensitivity_logistic)\n",
    "cm_logistic = confusion_matrix(np.array(y_logistic), np.array(y_simple_flag))\n",
    "print('Logistic Regression F1 Score on FULL set:', f1_logistic)\n",
    "print('Logistic Regression Accurate on FULL set:', model_log_simple.score(X_logistic_simple, y_logistic))\n",
    "print('Logistic Regression Confusion Matrix on Full Set:')\n",
    "print(cm_logistic)\n",
    "\n",
    "print('*************************************************************')\n",
    "\n",
    "# Scores on Decision Tree when using full dataset.\n",
    "print('Decision Tree F1 Score on FULL set:', f1_score(y_tree, clf_tree_opt.predict(X_tree)))\n",
    "print('Decision Tree Accurate on FULL set:', accuracy_score(y_tree, clf_tree_opt.predict(X_tree)))\n",
    "print('Decision Tree Confusion Matrix on Full Set:')\n",
    "print(confusion_matrix(np.array(y_tree), clf_tree_opt.predict(X_tree)))\n"
   ]
  },
  {
   "cell_type": "markdown",
   "metadata": {},
   "source": [
    "### AU ROC"
   ]
  },
  {
   "cell_type": "code",
   "execution_count": 60,
   "metadata": {},
   "outputs": [
    {
     "data": {
      "image/png": "[encoded data removed]",
      "text/plain": [
       "<Figure size 432x288 with 1 Axes>"
      ]
     },
     "metadata": {
      "needs_background": "light"
     },
     "output_type": "display_data"
    }
   ],
   "source": [
    "#ROC on test set\n",
    "\n",
    "%matplotlib inline\n",
    "import matplotlib.pyplot as plt\n",
    "from sklearn.metrics import roc_curve, auc\n",
    "\n",
    "y_output_logistic = model_log.predict_proba(X_logistic_test)\n",
    "y_output_tree = clf_tree_opt.predict_proba(X_tree_test)\n",
    "\n",
    "# ROC curve and AUC for each model\n",
    "fpr1, tpr1, thresholds1 = roc_curve(y_logistic_test, y_output_logistic[:, 1])\n",
    "fpr2, tpr2, thresholds2 = roc_curve(y_tree_test, y_output_tree[:, 1])\n",
    "\n",
    "# AUROC\n",
    "roc_auc1 = auc(fpr1, tpr1)\n",
    "roc_auc2 = auc(fpr2, tpr2)\n",
    "\n",
    "plt.plot(fpr1, tpr1, lw = 2, color = 'blue',\n",
    "         label = 'ROC (area = %0.2f) Logistic Regression' % roc_auc1)\n",
    "\n",
    "plt.plot(fpr2, tpr2, lw = 2, color = 'red',\n",
    "         label = 'ROC (area = %0.2f) Decision Tree' % roc_auc2)\n",
    "\n",
    "plt.plot([0,1], [0,1], linestyle = '--', lw = 1, color = 'k', \n",
    "         label = 'Prediction with no model')\n",
    "\n",
    "plt.xlim([0,1])\n",
    "plt.ylim([0,1])\n",
    "plt.xlabel('False Positive Rate')\n",
    "plt.ylabel('True Positive Rate')\n",
    "plt.title('Receiver Operating Characteristic on Test Set')\n",
    "plt.legend(loc='lower right')\n",
    "plt.show()"
   ]
  },
  {
   "cell_type": "code",
   "execution_count": 61,
   "metadata": {},
   "outputs": [
    {
     "data": {
      "image/png": "[encoded data removed]",
      "text/plain": [
       "<Figure size 432x288 with 1 Axes>"
      ]
     },
     "metadata": {
      "needs_background": "light"
     },
     "output_type": "display_data"
    }
   ],
   "source": [
    "# ROC on full dataset\n",
    "%matplotlib inline\n",
    "import matplotlib.pyplot as plt\n",
    "from sklearn.metrics import roc_curve, auc\n",
    "\n",
    "y_output_logistic_full = model_log_simple.predict_proba(X_logistic_simple)\n",
    "y_output_tree_full = clf_tree_opt.predict_proba(X_tree)\n",
    "\n",
    "# ROC curve and AUC for each model\n",
    "fpr1f, tpr1f, thresholds1f = roc_curve(y_logistic, y_output_logistic_full[:, 1])\n",
    "fpr2f, tpr2f, thresholds2f = roc_curve(y_tree, y_output_tree_full[:, 1])\n",
    "\n",
    "# AUROC\n",
    "roc_auc1f = auc(fpr1f, tpr1f)\n",
    "roc_auc2f = auc(fpr2f, tpr2f)\n",
    "\n",
    "plt.plot(fpr1f, tpr1f, lw = 2, color = 'blue',\n",
    "         label = 'ROC (area = %0.2f) Logistic Regression on Full Set' % roc_auc1f)\n",
    "\n",
    "plt.plot(fpr2f, tpr2f, lw = 2, color = 'red',\n",
    "         label = 'ROC (area = %0.2f) Decision Tree on Full Set' % roc_auc2f)\n",
    "\n",
    "plt.plot([0,1], [0,1], linestyle = '--', lw = 1, color = 'k', \n",
    "         label = 'Prediction with no model')\n",
    "\n",
    "plt.xlim([0,1])\n",
    "plt.ylim([0,1])\n",
    "plt.xlabel('False Positive Rate')\n",
    "plt.ylabel('True Positive Rate')\n",
    "plt.title('Receiver Operating Characteristic on Full Set')\n",
    "plt.legend(loc='lower right')\n",
    "plt.show()"
   ]
  },
  {
   "cell_type": "markdown",
   "metadata": {},
   "source": [
    "### Cut-off Point"
   ]
  },
  {
   "cell_type": "markdown",
   "metadata": {},
   "source": [
    "##### Health Program\n",
    "The data set shows an average medical cost of \\\\$13,270.42 we assume the average medical calim cost is \\\\$10K if a there are claims for this member.\n",
    "\n",
    "if a Health Program is an option to insurance company to reduce cost, we assume:\n",
    "\n",
    "    The Health Program costs $1000 for each member, and\n",
    "    50% of the chance to reduce medical claim cost by 80% \n",
    "    \n",
    "    \n",
    "Question: how to chose the cutoff point to maximize the savings?\n",
    "    \n",
    " *********************************************************************\n"
   ]
  },
  {
   "cell_type": "code",
   "execution_count": 62,
   "metadata": {},
   "outputs": [
    {
     "name": "stdout",
     "output_type": "stream",
     "text": [
      "Total Cost with no program = $ 7.83 M\n",
      "Cost of every member participates the program = $ 6.036 M\n"
     ]
    }
   ],
   "source": [
    "#if no member participates this program:\n",
    "membership = len(df)\n",
    "claimcount = df['insuranceclaim'].sum()\n",
    "cost_0 = claimcount * 10000 /10**6\n",
    "print(\"Total Cost with no program = $\",cost_0, 'M')\n",
    "\n",
    "#if EVERY member participates this program:\n",
    "cost_all = (membership*1000+claimcount*0.5*2000+claimcount*0.5* 10000)/10**6\n",
    "print('Cost of every member participates the program = $', cost_all, 'M')"
   ]
  },
  {
   "cell_type": "code",
   "execution_count": 63,
   "metadata": {},
   "outputs": [],
   "source": [
    "#loop thru all cutoff point and select the best one to reduce cost.\n",
    "from sklearn.metrics import confusion_matrix\n",
    "\n",
    "best_cutoff = 0\n",
    "best_cost = 999999999\n",
    "best_cm = []\n",
    "\n",
    "for c in range(1,99):\n",
    "    c = c/100\n",
    "    simple_prob = pd.DataFrame(model_log_simple.predict_proba(X_logistic_simple)).loc[:,1]\n",
    "    y_simple_flag = simple_prob.apply(lambda x: 1 if x > c else 0)\n",
    "    \n",
    "    # calculate classification count\n",
    "    tn,fp,fn,tp = confusion_matrix(np.array(y_logistic), np.array(y_simple_flag)).ravel()\n",
    "    \n",
    "    #program cost\n",
    "    cost_prog = 1000 * (tp + fp)\n",
    "    #correctly predicting claims\n",
    "    # 50% of the time (TP) costs 2K + (50% of the time not work + failed to idntify claims) * 10K\n",
    "    cost_claim = tp * 0.5 *2000 + 10000 * (tp * 0.5 + fn)\n",
    "    \n",
    "    #total claims\n",
    "    cost = cost_prog + cost_claim\n",
    "    \n",
    "    if cost < best_cost:\n",
    "        best_cost = cost\n",
    "        best_cutoff = c\n",
    "        best_cm = confusion_matrix(np.array(y_logistic), np.array(y_simple_flag))\n",
    "\n",
    "    \n",
    "    \n"
   ]
  },
  {
   "cell_type": "code",
   "execution_count": 64,
   "metadata": {},
   "outputs": [
    {
     "name": "stdout",
     "output_type": "stream",
     "text": [
      "Best Cutoff Point: 0.46\n",
      "Total Claim Costs: $ 5.755 M\n",
      "Consurion Matrix when Best Cutoff Point is used:\n",
      "[[461  94]\n",
      " [ 60 723]]\n"
     ]
    }
   ],
   "source": [
    "print('Best Cutoff Point:',best_cutoff)\n",
    "print('Total Claim Costs: $', best_cost/10**6,'M')\n",
    "print('Consurion Matrix when Best Cutoff Point is used:')\n",
    "print(best_cm)"
   ]
  },
  {
   "cell_type": "code",
   "execution_count": 65,
   "metadata": {},
   "outputs": [
    {
     "name": "stdout",
     "output_type": "stream",
     "text": [
      "0.52\n"
     ]
    }
   ],
   "source": [
    "print(cutoff_best)"
   ]
  },
  {
   "cell_type": "code",
   "execution_count": 66,
   "metadata": {},
   "outputs": [
    {
     "name": "stdout",
     "output_type": "stream",
     "text": [
      "Total Claim Costs: $ 3.927 M\n",
      "Consurion Matrix for DT:\n",
      "[[482  73]\n",
      " [ 48 735]]\n"
     ]
    }
   ],
   "source": [
    "# How about our Decision Tree?\n",
    "cm = confusion_matrix(np.array(y_tree), clf_tree_opt.predict(X_tree))\n",
    "tp, fp, fn, tn = cm[0][0],cm[0][1],cm[1][0],cm[1][1]\n",
    "#program cost\n",
    "cost_prog = 1000 * (tp + fp)\n",
    "#correctly predicting claims\n",
    "# 50% of the time (TP) costs 2K + (50% of the time not work + failed to idntify claims) * 10K\n",
    "cost_claim = tp * 0.5 *2000 + 10000 * (tp * 0.5 + fn)\n",
    "    \n",
    "#total claims\n",
    "cost = cost_prog + cost_claim\n",
    "\n",
    "print('Total Claim Costs: $', cost/10**6,'M')\n",
    "print('Consurion Matrix for DT:')\n",
    "print(cm)"
   ]
  }
 ],
 "metadata": {
  "kernelspec": {
   "display_name": "Python 3",
   "language": "python",
   "name": "python3"
  },
  "language_info": {
   "codemirror_mode": {
    "name": "ipython",
    "version": 3
   },
   "file_extension": ".py",
   "mimetype": "text/x-python",
   "name": "python",
   "nbconvert_exporter": "python",
   "pygments_lexer": "ipython3",
   "version": "3.7.3"
  }
 },
 "nbformat": 4,
 "nbformat_minor": 2
}
